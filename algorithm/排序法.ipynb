{
 "cells": [
  {
   "cell_type": "markdown",
   "metadata": {},
   "source": [
    "# 排序"
   ]
  },
  {
   "cell_type": "markdown",
   "metadata": {},
   "source": [
    "## 冒泡排序 O(n^2)"
   ]
  },
  {
   "cell_type": "code",
   "execution_count": 57,
   "metadata": {},
   "outputs": [],
   "source": [
    "def bubble_sort(nums: 'List[int]', reverse: 'boolean' = False) -> 'List[int]':\n",
    "    n = len(nums)\n",
    "    for i in range(n-1, 0, -1): #外循环\n",
    "        j = 0\n",
    "        while j < i: #内循环\n",
    "            if not reverse and nums[j] > nums[i]: #升序\n",
    "                nums[j], nums[i] = nums[i], nums[j]\n",
    "            elif reverse and nums[j] < nums[i]: #降序\n",
    "                nums[j], nums[i] = nums[i], nums[j]\n",
    "            j += 1\n",
    "    return nums"
   ]
  },
  {
   "cell_type": "code",
   "execution_count": 58,
   "metadata": {},
   "outputs": [
    {
     "data": {
      "text/plain": [
       "[7, 6, 5, 3, 3, 2, 1, 0]"
      ]
     },
     "execution_count": 58,
     "metadata": {},
     "output_type": "execute_result"
    }
   ],
   "source": [
    "a = [1,2,5,3,6,3,7,0]\n",
    "bubble_sort(a,True)"
   ]
  },
  {
   "cell_type": "markdown",
   "metadata": {},
   "source": [
    "## 选择排序 O(n^2)"
   ]
  },
  {
   "cell_type": "code",
   "execution_count": null,
   "metadata": {},
   "outputs": [],
   "source": [
    "def select_sort(nums: 'List[int]', reverse: 'boolean' = False) -> 'List[int]':\n",
    "    if len(nums) < 2: \n",
    "        return nums    \n",
    "    order=[]\n",
    "    mini = nums[0]\n",
    "    index = 0\n",
    "    for i in range(1,len(nums)):\n",
    "        if mini > nums[i]:\n",
    "            mini= nums[i]\n",
    "    order.append(mini)"
   ]
  },
  {
   "cell_type": "markdown",
   "metadata": {},
   "source": [
    "## 快速排序 O(nlogn)"
   ]
  },
  {
   "cell_type": "code",
   "execution_count": 60,
   "metadata": {},
   "outputs": [],
   "source": [
    "def quick_sort(nums: 'List[int]', reverse: 'boolean' = False) -> 'List[int]':\n",
    "    if len(nums) < 2: #基线条件\n",
    "        return nums\n",
    "    else: #递归条件\n",
    "        pivot = nums[0]\n",
    "        if not reverse:\n",
    "            left = [e for e in nums[1:] if e <= pivot]\n",
    "            right = [e for e in nums[1:] if e > pivot]\n",
    "        else:\n",
    "            left = [e for e in nums[1:] if e >= pivot]\n",
    "            right = [e for e in nums[1:] if e < pivot]            \n",
    "        nums = quick_sort(left, reverse) + [pivot] + quick_sort(right, reverse) \n",
    "        return nums"
   ]
  },
  {
   "cell_type": "code",
   "execution_count": 62,
   "metadata": {},
   "outputs": [
    {
     "data": {
      "text/plain": [
       "[5, 4, 3, 2, 1]"
      ]
     },
     "execution_count": 62,
     "metadata": {},
     "output_type": "execute_result"
    }
   ],
   "source": [
    "a = [3,5,2,1,4]\n",
    "quick_sort(a, True)"
   ]
  },
  {
   "cell_type": "code",
   "execution_count": null,
   "metadata": {},
   "outputs": [],
   "source": []
  },
  {
   "cell_type": "code",
   "execution_count": 63,
   "metadata": {},
   "outputs": [],
   "source": [
    "a,b,c = 1,2,3\n",
    "a,b,c,= b,c,a"
   ]
  },
  {
   "cell_type": "code",
   "execution_count": 64,
   "metadata": {},
   "outputs": [
    {
     "data": {
      "text/plain": [
       "2"
      ]
     },
     "execution_count": 64,
     "metadata": {},
     "output_type": "execute_result"
    }
   ],
   "source": [
    "a"
   ]
  },
  {
   "cell_type": "code",
   "execution_count": 65,
   "metadata": {},
   "outputs": [
    {
     "data": {
      "text/plain": [
       "3"
      ]
     },
     "execution_count": 65,
     "metadata": {},
     "output_type": "execute_result"
    }
   ],
   "source": [
    "b"
   ]
  },
  {
   "cell_type": "code",
   "execution_count": 66,
   "metadata": {},
   "outputs": [
    {
     "data": {
      "text/plain": [
       "1"
      ]
     },
     "execution_count": 66,
     "metadata": {},
     "output_type": "execute_result"
    }
   ],
   "source": [
    "c"
   ]
  },
  {
   "cell_type": "code",
   "execution_count": null,
   "metadata": {},
   "outputs": [],
   "source": []
  }
 ],
 "metadata": {
  "kernelspec": {
   "display_name": "Python 3",
   "language": "python",
   "name": "python3"
  },
  "language_info": {
   "codemirror_mode": {
    "name": "ipython",
    "version": 3
   },
   "file_extension": ".py",
   "mimetype": "text/x-python",
   "name": "python",
   "nbconvert_exporter": "python",
   "pygments_lexer": "ipython3",
   "version": "3.6.5"
  }
 },
 "nbformat": 4,
 "nbformat_minor": 2
}
